# Código de Python:
print("Creación de archivo para GitHub")